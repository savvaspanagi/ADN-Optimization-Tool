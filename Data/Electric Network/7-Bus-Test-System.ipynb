{
 "cells": [
  {
   "cell_type": "markdown",
   "metadata": {},
   "source": [
    "## This is a Three Bus Test System"
   ]
  },
  {
   "cell_type": "code",
   "execution_count": null,
   "metadata": {},
   "outputs": [],
   "source": [
    "### Libraries\n",
    "\n",
    "import pandapower as pp #import pandapower\n",
    "import pandas as pd\n",
    "import math\n",
    "import random\n",
    "import pandapower.networks as nw\n",
    "import numpy as np\n",
    "import seaborn as sns\n",
    "import matplotlib.pyplot as plt\n",
    "from scipy.stats import norm\n",
    "from scipy import stats\n",
    "import warnings\n",
    "import statsmodels.api as sm\n",
    "from scipy.stats import truncnorm\n",
    "from datetime import datetime"
   ]
  },
  {
   "cell_type": "code",
   "execution_count": 15,
   "metadata": {},
   "outputs": [],
   "source": [
    "# Create an empty network\n",
    "net = pp.create_empty_network(sn_mva=0.315) #create an empty network"
   ]
  },
  {
   "cell_type": "markdown",
   "metadata": {},
   "source": [
    "### Buses"
   ]
  },
  {
   "cell_type": "code",
   "execution_count": 16,
   "metadata": {},
   "outputs": [
    {
     "data": {
      "text/html": [
       "<div>\n",
       "<style scoped>\n",
       "    .dataframe tbody tr th:only-of-type {\n",
       "        vertical-align: middle;\n",
       "    }\n",
       "\n",
       "    .dataframe tbody tr th {\n",
       "        vertical-align: top;\n",
       "    }\n",
       "\n",
       "    .dataframe thead th {\n",
       "        text-align: right;\n",
       "    }\n",
       "</style>\n",
       "<table border=\"1\" class=\"dataframe\">\n",
       "  <thead>\n",
       "    <tr style=\"text-align: right;\">\n",
       "      <th></th>\n",
       "      <th>name</th>\n",
       "      <th>vn_kv</th>\n",
       "      <th>type</th>\n",
       "      <th>zone</th>\n",
       "      <th>in_service</th>\n",
       "      <th>min_vm_pu</th>\n",
       "      <th>max_vm_pu</th>\n",
       "    </tr>\n",
       "  </thead>\n",
       "  <tbody>\n",
       "    <tr>\n",
       "      <th>0</th>\n",
       "      <td>Feeders-Bus</td>\n",
       "      <td>0.4</td>\n",
       "      <td>b</td>\n",
       "      <td>None</td>\n",
       "      <td>True</td>\n",
       "      <td>0.95</td>\n",
       "      <td>1.05</td>\n",
       "    </tr>\n",
       "    <tr>\n",
       "      <th>1</th>\n",
       "      <td>F1-0</td>\n",
       "      <td>0.4</td>\n",
       "      <td>b</td>\n",
       "      <td>None</td>\n",
       "      <td>True</td>\n",
       "      <td>0.95</td>\n",
       "      <td>1.05</td>\n",
       "    </tr>\n",
       "    <tr>\n",
       "      <th>2</th>\n",
       "      <td>F1-1</td>\n",
       "      <td>0.4</td>\n",
       "      <td>b</td>\n",
       "      <td>None</td>\n",
       "      <td>True</td>\n",
       "      <td>0.95</td>\n",
       "      <td>1.05</td>\n",
       "    </tr>\n",
       "  </tbody>\n",
       "</table>\n",
       "</div>"
      ],
      "text/plain": [
       "          name  vn_kv type  zone  in_service  min_vm_pu  max_vm_pu\n",
       "0  Feeders-Bus    0.4    b  None        True       0.95       1.05\n",
       "1         F1-0    0.4    b  None        True       0.95       1.05\n",
       "2         F1-1    0.4    b  None        True       0.95       1.05"
      ]
     },
     "execution_count": 16,
     "metadata": {},
     "output_type": "execute_result"
    }
   ],
   "source": [
    "# bus1 = pp.create_bus(net, name=\"HV Busbar\", vn_kv=110, type=\"b\")\n",
    "min_vm_pu=0.95\n",
    "max_vm_pu=1.05\n",
    "Feeder1={}\n",
    "\n",
    "# GridBus = pp.create_bus(net, vn_kv=11, name=\"Main-Bus\",min_vm_pu=min_vm_pu, max_vm_pu=max_vm_pu, type=\"b\")\n",
    "FeederBus = pp.create_bus(net, vn_kv=0.4, name=\"Feeders-Bus\",min_vm_pu=min_vm_pu, max_vm_pu=max_vm_pu, type=\"b\")\n",
    "\n",
    "for i in range(0, 2):\n",
    "    bus_id = str(i)\n",
    "    vn_kv = 0.4  # Voltage level from Matpower bus data\n",
    "    bus_name = f\"F1-{bus_id}\"\n",
    "    Feeder1[i]=pp.create_bus(net, vn_kv=vn_kv, name=bus_name,min_vm_pu=min_vm_pu, max_vm_pu=max_vm_pu, type=\"b\")\n",
    "    \n",
    "net.bus # show bus table\n"
   ]
  },
  {
   "cell_type": "markdown",
   "metadata": {},
   "source": [
    "### External Grid"
   ]
  },
  {
   "cell_type": "code",
   "execution_count": null,
   "metadata": {},
   "outputs": [
    {
     "data": {
      "text/plain": [
       "0"
      ]
     },
     "execution_count": 17,
     "metadata": {},
     "output_type": "execute_result"
    }
   ],
   "source": [
    "pp.create_ext_grid(net,FeederBus , vm_pu=1.0, va_degree=0, s_sc_max_mva=10000, rx_max=0.1) # Create an external grid connection\n",
    "\n",
    "# net.ext_grid #show external grid table"
   ]
  },
  {
   "cell_type": "markdown",
   "metadata": {},
   "source": [
    "### Lines"
   ]
  },
  {
   "cell_type": "code",
   "execution_count": 18,
   "metadata": {},
   "outputs": [
    {
     "data": {
      "text/plain": [
       "1"
      ]
     },
     "execution_count": 18,
     "metadata": {},
     "output_type": "execute_result"
    }
   ],
   "source": [
    "#### LV 300c AI 31/2-C\n",
    "l1_r_ohm_per_km = 0.0958   # Resistance per km\n",
    "l1_x_ohm_per_km = 0.07  # Reactance per km\n",
    "l1_c_nf_per_km = 0             # Charging susceptance (converted to nF/km if needed)\n",
    "l1_r0_ohm_per_km = 0.34838   # Resistance per km\n",
    "l1_x0_ohm_per_km = 1.2328  # Reactance per km\n",
    "l1_c0_ohm_per_km = 0             # Charging susceptance (converted to nF/km if needed)\n",
    "l1_max_i_ka = 0.42     # Maximum thermal current rating\n",
    "l1_length_km = 0.007 \n",
    "\n",
    "### LV 100mm AI O/H \n",
    "\n",
    "l2_r_ohm_per_km = 0.270922   # Resistance per km\n",
    "l2_x_ohm_per_km = 0.257383  # Reactance per km\n",
    "l2_c_nf_per_km = 0             # Charging susceptance (converted to nF/km if needed)\n",
    "l2_r0_ohm_per_km = 0.554544   # Resistance per km\n",
    "l2_x0_ohm_per_km = 1.030687  # Reactance per km\n",
    "l2_c0_nf_per_km = 0             # Charging susceptance (converted to nF/km if needed)\n",
    "l2_max_i_ka = 0.271     # Maximum thermal current rating\n",
    "l2_length_km = 0.05\n",
    "l2_length_km_2=0.035\n",
    " \n",
    "### Service Line \n",
    "\n",
    "l3_r_ohm_per_km = 1.273   # Resistance per km\n",
    "l3_x_ohm_per_km = 0.00001  # Reactance per km\n",
    "l3_c_nf_per_km = 0             # Charging susceptance (converted to nF/km if needed)\n",
    "l3_r0_ohm_per_km = 1.273   # Resistance per km\n",
    "l3_x0_ohm_per_km = 0.00001  # Reactance per km\n",
    "l3_c0_nf_per_km = 0             # Charging susceptance (converted to nF/km if needed)\n",
    "l3_max_i_ka = 0.099     # Maximum thermal current rating\n",
    "l3_length_km = 0.02  # Using this i will make the p.u to ohms. \n",
    "\n",
    "\n",
    "### Main Feeder Bus to Feeder Start Connection ###\n",
    "\n",
    "pp.create_line_from_parameters(net, FeederBus, Feeder1[0], l1_length_km, l1_r_ohm_per_km, l1_x_ohm_per_km, l1_c_nf_per_km, l1_max_i_ka,\n",
    "                    r0_ohm_per_km= l1_r0_ohm_per_km, x0_ohm_per_km= l1_x0_ohm_per_km, c0_nf_per_km=  l1_c0_ohm_per_km )\n",
    "\n",
    "pp.create_line_from_parameters(net, FeederBus, Feeder1[1], l2_length_km_2, l2_r_ohm_per_km, l2_x_ohm_per_km, l2_c_nf_per_km, l2_max_i_ka,\n",
    "                    r0_ohm_per_km= l2_r0_ohm_per_km, x0_ohm_per_km= l2_x0_ohm_per_km, c0_nf_per_km=  l2_c0_nf_per_km )\n",
    "\n"
   ]
  },
  {
   "cell_type": "code",
   "execution_count": 19,
   "metadata": {},
   "outputs": [],
   "source": [
    "min_vm_pu=0.95\n",
    "max_vm_pu=1.05\n",
    "Feeder1_load_bus={}\n",
    "\n",
    "for i in range(0, 2):\n",
    "    for j in range (0,2):\n",
    "        bus_id = str(i)\n",
    "        load_id = str(j)\n",
    "        vn_kv = 0.4  # Voltage level from Matpower bus data\n",
    "        bus_name = f\"F1-Bus-{bus_id}-Load{load_id}\"\n",
    "        Feeder1_load_bus[i*2+j]=pp.create_bus(net, vn_kv=vn_kv, name=bus_name,min_vm_pu=min_vm_pu, max_vm_pu=max_vm_pu, type=\"b\")\n",
    "        pp.create_line_from_parameters(net, Feeder1[i], Feeder1_load_bus[i*2+j], l3_length_km, l3_r_ohm_per_km, l3_x_ohm_per_km, l3_c_nf_per_km, l3_max_i_ka,\n",
    "                    r0_ohm_per_km= l3_r0_ohm_per_km, x0_ohm_per_km= l3_x0_ohm_per_km, c0_nf_per_km=  l3_c0_nf_per_km )\n",
    "\n",
    "# net.bus # show bus table"
   ]
  },
  {
   "cell_type": "markdown",
   "metadata": {},
   "source": [
    "#### Loads\n"
   ]
  },
  {
   "cell_type": "code",
   "execution_count": null,
   "metadata": {},
   "outputs": [
    {
     "name": "stdout",
     "output_type": "stream",
     "text": [
      "0 3\n",
      "1 4\n",
      "2 5\n",
      "3 6\n"
     ]
    }
   ],
   "source": [
    "for i,bus in Feeder1_load_bus.items():\n",
    "    load_name = f\"F1-load{bus}\"\n",
    "    pp.create_load(net, Feeder1_load_bus[i], p_mw=150/1000, q_mvar=150*math.tan(math.acos(0.95))/1000, name=load_name)"
   ]
  },
  {
   "cell_type": "code",
   "execution_count": null,
   "metadata": {},
   "outputs": [],
   "source": [
    "########## Custom Create DER ##############\n",
    "\n",
    "########## Feeder 1 ##############\n",
    "sgen1 = pp.create_sgen(net, Feeder1_load_bus[0], p_mw=20/1000, q_mvar=-math.tan(math.acos(0.95))*20/1000, name=\"DER 1\")\n",
    "sgen2 = pp.create_sgen(net, Feeder1_load_bus[2], p_mw=20/1000, q_mvar=-math.tan(math.acos(0.95))*20/1000, name=\"DER 1\")\n"
   ]
  }
 ],
 "metadata": {
  "kernelspec": {
   "display_name": "base",
   "language": "python",
   "name": "python3"
  },
  "language_info": {
   "codemirror_mode": {
    "name": "ipython",
    "version": 3
   },
   "file_extension": ".py",
   "mimetype": "text/x-python",
   "name": "python",
   "nbconvert_exporter": "python",
   "pygments_lexer": "ipython3",
   "version": "3.12.8"
  }
 },
 "nbformat": 4,
 "nbformat_minor": 2
}
